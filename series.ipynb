{
 "cells": [
  {
   "cell_type": "code",
   "execution_count": 1,
   "metadata": {},
   "outputs": [],
   "source": [
    "from transformers import AutoModelForSequenceClassification\n",
    "from transformers import AutoTokenizer\n",
    "from transformers import RobertaTokenizer\n",
    "import numpy as np\n",
    "from scipy.special import softmax\n",
    "import csv\n",
    "import urllib.request"
   ]
  },
  {
   "cell_type": "code",
   "execution_count": 2,
   "metadata": {},
   "outputs": [],
   "source": [
    "MODEL = f\"cardiffnlp/twitter-roberta-base-sentiment\"\n",
    "\n",
    "tokenizer = AutoTokenizer.from_pretrained(MODEL)\n",
    "model = AutoModelForSequenceClassification.from_pretrained(MODEL)\n"
   ]
  },
  {
   "cell_type": "code",
   "execution_count": 3,
   "metadata": {},
   "outputs": [],
   "source": [
    "text = [\"I am angry\", \"I am happy\"]\n",
    "encoded_input = tokenizer(text, return_tensors='pt')\n",
    "output = model(encoded_input['input_ids'], output_hidden_states=True)"
   ]
  },
  {
   "cell_type": "code",
   "execution_count": 4,
   "metadata": {},
   "outputs": [],
   "source": [
    "from torch.utils.data import Dataset, DataLoader\n",
    "import pandas as pd\n",
    "\n",
    "# Load the review dataset\n",
    "class ReviewLoader(Dataset):\n",
    "    def __init__(self, file=None, transform=None, target_transform=None, tokenizer=None):\n",
    "        self.file = pd.read_json(file)\n",
    "        self.file = self.file\n",
    "        self.file = tokenizer(list(self.file['X']), padding=True, truncation=True, max_length=512, return_tensors='pt')\n",
    "        self.file = self.file['input_ids']\n",
    "        self.transform = transform\n",
    "        self.target_transform = target_transform\n",
    "\n",
    "    def __len__(self):\n",
    "        return len(self.file)\n",
    "\n",
    "    def __getitem__(self, idx):\n",
    "        data = self.file[idx]\n",
    "        return(data)\n",
    "\n",
    "data = ReviewLoader(file = './task-examples/task-sentiment-amzbook.json', tokenizer=tokenizer)\n",
    "review_dataloader = DataLoader(data, batch_size=10, shuffle=False)"
   ]
  },
  {
   "cell_type": "code",
   "execution_count": 5,
   "metadata": {},
   "outputs": [],
   "source": [
    "from torch import nn\n",
    "\n",
    "class EmbeddingModel(nn.Module):\n",
    "    def __init__(self):\n",
    "        super(EmbeddingModel, self).__init__()\n",
    "        self.model = AutoModelForSequenceClassification.from_pretrained(MODEL)\n",
    "\n",
    "    def forward(self, input):\n",
    "        output = self.model(input, output_hidden_states=True)\n",
    "        # print(output[1][24].shape)\n",
    "        # return(output[1][24][0, 0])\n",
    "        return output[1][-1][:, 0, :]\n",
    "\n",
    "emb_model = EmbeddingModel()"
   ]
  },
  {
   "cell_type": "code",
   "execution_count": 6,
   "metadata": {},
   "outputs": [],
   "source": [
    "import torch\n",
    "# embs = []\n",
    "# for data in review_dataloader:\n",
    "#   # print(data.shape)\n",
    "#   output = emb_model(data)\n",
    "#   # print(output.shape)\n",
    "\n",
    "#   with torch.no_grad():\n",
    "#     out = embs.append(output.numpy())\n",
    "\n",
    "embs = torch.empty(0,0)\n",
    "for data in review_dataloader:\n",
    "    if(len(embs) == 0):\n",
    "      embs = emb_model(data)\n",
    "    else:\n",
    "      output = emb_model(data)\n",
    "      with torch.no_grad():\n",
    "        embs = torch.cat((embs, output), 0)"
   ]
  },
  {
   "cell_type": "code",
   "execution_count": 7,
   "metadata": {},
   "outputs": [],
   "source": [
    "file = \"./task-examples/task-sentiment-amzbook.json\"\n",
    "reviews = pd.read_json(file)\n",
    "df_res = pd.DataFrame({ \"testid\": reviews['testid'], \"X\": reviews['X'], \"emb\": pd.Series(list(embs.detach().numpy()), dtype=\"object\"), \"Y\": reviews['Y'], \"pred\": reviews['pred'], \"conf\": reviews['conf']})"
   ]
  },
  {
   "cell_type": "code",
   "execution_count": 8,
   "metadata": {},
   "outputs": [],
   "source": [
    "df_res.to_json(\"task-examples/task-sentiment-amzbook-emb.json\", orient='records')"
   ]
  },
  {
   "cell_type": "code",
   "execution_count": null,
   "metadata": {},
   "outputs": [],
   "source": [
    "df_res['emb']"
   ]
  },
  {
   "cell_type": "code",
   "execution_count": 10,
   "metadata": {},
   "outputs": [],
   "source": [
    "from sklearn.cluster import DBSCAN\n",
    "from sklearn import cluster, datasets, mixture\n",
    "from sklearn.manifold import TSNE, MDS\n",
    "\n",
    "X_embedded = TSNE(n_components=2, learning_rate='auto', init='random').fit_transform(embs.detach().numpy())\n",
    "X_MDS_embedded = MDS(n_components=2, max_iter=100, n_init=1).fit_transform(embs.detach().numpy())"
   ]
  },
  {
   "cell_type": "code",
   "execution_count": 12,
   "metadata": {},
   "outputs": [],
   "source": [
    "df_res['emb_X'] = X_embedded[:, 0]\n",
    "df_res['emb_Y'] = X_embedded[:, 1]"
   ]
  },
  {
   "cell_type": "code",
   "execution_count": 13,
   "metadata": {},
   "outputs": [
    {
     "data": {
      "text/html": [
       "<div>\n",
       "<style scoped>\n",
       "    .dataframe tbody tr th:only-of-type {\n",
       "        vertical-align: middle;\n",
       "    }\n",
       "\n",
       "    .dataframe tbody tr th {\n",
       "        vertical-align: top;\n",
       "    }\n",
       "\n",
       "    .dataframe thead th {\n",
       "        text-align: right;\n",
       "    }\n",
       "</style>\n",
       "<table border=\"1\" class=\"dataframe\">\n",
       "  <thead>\n",
       "    <tr style=\"text-align: right;\">\n",
       "      <th></th>\n",
       "      <th>testid</th>\n",
       "      <th>X</th>\n",
       "      <th>emb</th>\n",
       "      <th>Y</th>\n",
       "      <th>pred</th>\n",
       "      <th>conf</th>\n",
       "      <th>emb_X</th>\n",
       "      <th>emb_Y</th>\n",
       "    </tr>\n",
       "  </thead>\n",
       "  <tbody>\n",
       "    <tr>\n",
       "      <th>0</th>\n",
       "      <td>930268</td>\n",
       "      <td>I found the history of Descartes bones and wha...</td>\n",
       "      <td>[0.17859058, 0.52602214, -0.27808738, -0.64363...</td>\n",
       "      <td>1</td>\n",
       "      <td>1</td>\n",
       "      <td>0.949827</td>\n",
       "      <td>7.795757</td>\n",
       "      <td>-6.108063</td>\n",
       "    </tr>\n",
       "    <tr>\n",
       "      <th>1</th>\n",
       "      <td>977747</td>\n",
       "      <td>This book was a retelling of Cinderella from t...</td>\n",
       "      <td>[-0.072779514, -0.12724139, -0.05457175, -0.37...</td>\n",
       "      <td>0</td>\n",
       "      <td>0</td>\n",
       "      <td>0.904762</td>\n",
       "      <td>4.705898</td>\n",
       "      <td>-6.104208</td>\n",
       "    </tr>\n",
       "    <tr>\n",
       "      <th>2</th>\n",
       "      <td>548360</td>\n",
       "      <td>This work juxtaposes the commercial trappings ...</td>\n",
       "      <td>[0.2431745, 0.025579238, -0.2107528, -0.203716...</td>\n",
       "      <td>1</td>\n",
       "      <td>1</td>\n",
       "      <td>0.949827</td>\n",
       "      <td>7.276407</td>\n",
       "      <td>-5.515430</td>\n",
       "    </tr>\n",
       "    <tr>\n",
       "      <th>3</th>\n",
       "      <td>89892</td>\n",
       "      <td>This is the title that closes the chapter on S...</td>\n",
       "      <td>[0.033378713, 0.25923732, -0.13415375, -0.3547...</td>\n",
       "      <td>0</td>\n",
       "      <td>1</td>\n",
       "      <td>0.644946</td>\n",
       "      <td>6.078758</td>\n",
       "      <td>-6.414030</td>\n",
       "    </tr>\n",
       "    <tr>\n",
       "      <th>4</th>\n",
       "      <td>909635</td>\n",
       "      <td>There is a lot of repetition from other books ...</td>\n",
       "      <td>[0.03589915, 0.011446417, -0.030508025, -0.401...</td>\n",
       "      <td>1</td>\n",
       "      <td>0</td>\n",
       "      <td>0.904762</td>\n",
       "      <td>6.284438</td>\n",
       "      <td>-5.826723</td>\n",
       "    </tr>\n",
       "  </tbody>\n",
       "</table>\n",
       "</div>"
      ],
      "text/plain": [
       "   testid                                                  X  \\\n",
       "0  930268  I found the history of Descartes bones and wha...   \n",
       "1  977747  This book was a retelling of Cinderella from t...   \n",
       "2  548360  This work juxtaposes the commercial trappings ...   \n",
       "3   89892  This is the title that closes the chapter on S...   \n",
       "4  909635  There is a lot of repetition from other books ...   \n",
       "\n",
       "                                                 emb  Y  pred      conf  \\\n",
       "0  [0.17859058, 0.52602214, -0.27808738, -0.64363...  1     1  0.949827   \n",
       "1  [-0.072779514, -0.12724139, -0.05457175, -0.37...  0     0  0.904762   \n",
       "2  [0.2431745, 0.025579238, -0.2107528, -0.203716...  1     1  0.949827   \n",
       "3  [0.033378713, 0.25923732, -0.13415375, -0.3547...  0     1  0.644946   \n",
       "4  [0.03589915, 0.011446417, -0.030508025, -0.401...  1     0  0.904762   \n",
       "\n",
       "      emb_X     emb_Y  \n",
       "0  7.795757 -6.108063  \n",
       "1  4.705898 -6.104208  \n",
       "2  7.276407 -5.515430  \n",
       "3  6.078758 -6.414030  \n",
       "4  6.284438 -5.826723  "
      ]
     },
     "execution_count": 13,
     "metadata": {},
     "output_type": "execute_result"
    }
   ],
   "source": [
    "df_res[:5]"
   ]
  },
  {
   "cell_type": "code",
   "execution_count": 23,
   "metadata": {},
   "outputs": [
    {
     "data": {
      "application/vnd.plotly.v1+json": {
       "config": {
        "plotlyServerURL": "https://plot.ly"
       },
       "data": [
        {
         "customdata": [
          [
           "I found the history of Descartes bones and what became of them fascinating. I was not aware of bone collectors; both in the church and by secular persons, each with their own motives.  I liked the Intermix of history, the beliefs of Descartes, and how the gift of \"Reason\" has shaped our modern world. In the end, the author shares his philosophy, desiring a balance (perhaps a truce) between reason & religion thru the stories of modern day people. Some effected tragically by religion, while others find comfort."
          ],
          [
           "This book was a retelling of Cinderella from the Fairy Godmother's point of view. It takes some liberties with the original Cinderella story. In this book's version, the Fairy Godmother was young and beautiful like Cinderella. She majorly screwed up when trying to help Cinderella get to the ball and was banished to live as a human on earth as punishment.The beginning and middle of this book was so slow I had trouble maintaining interest. The last twenty pages were exciting - I would have expanded this section and fleshed it out more. I spent most of the book waiting for something to happen and when it finally did, it was over in a flash."
          ],
          [
           "This work juxtaposes the commercial trappings of the sacred holiday with the true Christmas spirit, social interference with human interdependence, individual freedoms with community obligations, and it does so by satirizing the monolithic conventions of conformity. One clever touch: the out-of-synch protagonist's surname, Krank, means &quot;sick&quot; in German, and, although he and his family are portrayed as Roman Catholics, his first name, Luther, clearly suggests a budding Protestantism, expressed not by nailing documents to a church door but by distributing among his office co-workers a memo detailing his intended non-observance. In all, a gem."
          ],
          [
           "This is the title that closes the chapter on Stephenson for me.  I'd enjoyed Snow Crash enough to overlook the accumulating cuteness that gooed up the end, and I found sufficient merit in Diamond Age to offset the even  larger splashes of the same defect marring that volume.  Despite  its ambitious conception, however, Cryptonomicon is a showcase of sloppy writing and  errors of fact.  The tone throughout is  cleverness so precious it gags.  Cute.  It's just so preciously cute.  Disappointment is compounded when a talented writer mistakes energy for effort."
          ],
          [
           "There is a lot of repetition from other books written by Dr.Weil.  Also, I believe that some of his remedies are probably not very effective.  This is not to say that anyone would be harmed by any of his suggestions.  And I think the main thrust of his writings is right on the mark.  In fact, if someone follows all his suggestions they will become healthier than they would be otherwise.  They would pay a lot more money than needed, but they would surely benefit - unless their health has gone down past the point of no return."
          ],
          [
           "I would not have purchased this particular edition of Snow Falling on Cedars if I had known it was published for the European market. I gave the book to an American 13 year old who is still learning rules for grammar and punctuation. Although the story is the same, the punctuation reflects the rules of Oxford English therefore, I had to tell her to ignore the punctuation so she would not pick it up and use it in her own American classroom essays. It is a learning experience, of course, but a needless one at this point."
          ],
          [
           "Donna Leon's Commissario Guido Brunetti offers firsthand glimpses into the everyday life of the police of Venice's Questore. This story breaks just as Brunetti is scheduled to take his family to the mountains to escape the sweltering heat of August in the city. No such luck for Guido, who must stay and solve an unsavory murder in the Maghera, a particularly repellent industrial section of the municipality. But the fingers of fate soon slither across the channel to entangle some of the most elevated members of Venetian life. Once again Brunetti proves that there is no substitute for thorough, if mundane, investigative work to assure that justice prevails."
          ],
          [
           "Stephanie Plum is broke.  She is desperate.  Once she learns that she can make $10,000 as a bounty hunter, she decides to learn the tricks of the trade.  Her first task is to bring in Joe Morelli, someone from her past.  Now he's a cop accused of murder and presently, on the lamb.  Stephanie learns the trade the hard way as we follow her foibles and mishaps, yet there is something endearing about her obstinate attitude.  In search of Joe, she gets mixed up with a sadistic boxer, his manager, two call girls, and a butcher.  Evanovich, the author, writes superbly with a tight plot and witty prose.  A fun read that doesn't disappoint you!"
          ],
          [
           "I disagree w/last reviewer.  Flatland doesn't just lampoon the 1880's.  Victorian is Abbott's writing style.  But his social comment is as sharp today as Gulliver, and Screwtape's. If you can't spot the irony the entire  book is offensive.  If you do spot it, the parallels between say - its  women &amp; the current suppression in Afganistan, or education &amp;  Chinease purges, or angling up &amp; US college sport programs - are  hilarious and bone chilling.  Abbot's  guesses on equator based navigation  are quite accurate.  North swimming bacteria actually have a lot in common  with the travelers in Flatland."
          ],
          [
           "I bought the book because Terry Pratchett had a hand In writing it. However, it bears no resemble to any previous Pratchett novel, all of which I own and have read, including the non-Diskworld novels.This is science-fiction-with-omniscient-machine-ruling/saving-the-world, with alternative planets thrown in for good measure.  There are a few passing references to Diskworld, like the use of Lobsang, but that is as close as this book gets to being a Terry Pratchett novel.Personally I hated the book, especially the ending, which seemed meaningless, pointless and raw to me.If you, like me, were hoping for something recognizable as the work of Terry Pratchett, you will be disappointed  with this book. If you are a hardcore SciFi fan, it might be just your taste."
          ],
          [
           "Much of the publicity for this book focused on the fact that Oscar is an uber-nerd who uses lots of references to nerd culture from the 1980's and 90's. How could I resist buying this book?But the more I read, the more I realized that the book is really about the terrible atrocities committed by Rafael Trujillo, dictator of the Dominican Republic from 1930 until 1961. The victims of the Trujillo regime deserve to be acknowledged and memorialized, and this book is a step in the right direction. However, the reader should be prepared for graphic depictions of torture, and an otherwise very dark read.In addition, I thought several plot elements were derivative of better novels, and I didn't find the main characters very compelling."
          ],
          [
           "Becca's brother has disappeared and the only clue leads her to Hard Ink Tattoo shop and Nick Rixbey.  Rixbey had been part of an elite team led by her deceased father- her father who betrayed his team and country and unbeknownst to Becca he ruined the team too. As they start investigating they find a trail to a sophisticated gang called The Church and the plot thickens because her dad was involved in drugs and so is The Church....So the remaining team members elect to get together and find Charley and hopefully find info to clear their names....."
          ],
          [
           "I do not have the vocabulary to adequately tell you what this book is about but I will try. It is about a man who is educated way, way beyond his intelligence. He is useless, worthless and a complete moron. I never laughed so hard in my life. The situations he gets himself into from a hotdog vendor, to office worker, to trying to start a uprising in a factory, this man is useless.Have a dictionary nearby. For once, you have a book that isn't written at the 5th grade level."
          ],
          [
           "All men, all the time. Same is true for &#34;Beautiful Ruins&#34; - Jess Walter writes from the male perspective and there are few, if any, speaking parts for women. It's sad and frustrating, and I was looking forward to &#34;We Live In Water&#34;, after enduring the testosterone-infused &#34;Beautiful Ruins&#34;. This writer seems fully capable of creating an engaging story line - but it's always  about men."
          ],
          [
           "Dad just sat around reading the newspaper,  so really, why not?  Mom wasn't too pleased when she found out Dad had been traded off.  The amusing part is that all the other neighborhood kids kept trading him around too, because he really wasn't all that interesting.  I thought this would be a good book to read to my 5 year old grandson, but he didn't find it funny.  He thought it was just mean to trade off Dad!  The book was well written and I think many children would actually like the concept!"
          ],
          [
           "I find the topic of what animals are thinking to be very interesting.  My son is autistic, so some of the points in the book were useful.  I do have a bias towards believing that animals are more aware than people, expecially scientists, give them credit for being.  Some of the specific examples she uses to illustrate her agument get bothersomely repetitive (yellow rain coat, black hat).  Towards the end of the book, her tangent about animal consciousness goes beyond what is supportable by research.  I'm inclined to agree, but could see where people who are not would find it problematic."
          ],
          [
           "This book draws you in, it lets you discover things at the same rate as the characters. However when you stop to think about the Loriens and the Mogadorians it kinda falls apart, there is no real explanation for the magic they are able to use and why it works on earth, no explanation for the spell that they can only be killed in order! What would happen if they decapitated someone out of order! would is body keep walking without a head or does the fact that he is not the next to go make him immortal! how does that work!"
          ],
          [
           "Kept waiting for the action to really heat up but the author seemed far too concerned with the 'atmosphere' he was creating to carry the tale along.  And Detroit for a setting?  Lame.  It was my first Elmore Leonard book after being urged by friends to give him a try.  Guess I tried the wrong book?  They'll probably make a movie out of this one (as they did with Leonard's other books), and that might be better to wait for as it will only take up 2 hours of your time and the visual of the characters might add something to the story's more sexual and deadlier moments."
          ],
          [
           "The so-called Vatican Waltz of the title is a clever name for a predictable stance and maneuver of the church in dealing with issues that threaten to shake its traditional core, at least in the pre-Pope Francis era..Without giving away too much (as I sometimes have in previous reviews), let me say simply that the author disappoints in never fully engaging his lead character and his readers.  We know too little of what she really thinks, feels and - especially - what she experiences in her mystical prayer modes.  Rather, everything comes to the reader seeming to be &#34;second hand&#34; and never drawn in sharp enough images.An interesting topic that just did not rise to the occasion, in my opinion."
          ],
          [
           "When I read this book in college, it really dragged for me. I was more inclined to read with \"narrative lust\" (as I was informed by a professor) than to savor fine writing. However, rereading Pride and Prejudice in the annotated edition was really a revelation to me. Taking time to read the annotations forced me to slow down and really look at the world Austen was describing--and it was almost like visiting another universe. Previously, I had glossed over all of the humor, especially with Mr. Collins, and was clueless about the implications of one's choice of carriage. The historical context provided by the annotations really helped to appreciate the characters as well."
          ],
          [
           "I was disappointed with the subject and the content of this book. I was expecting to read about how magic can be like an exoteric branch in science. I wanted to read a scientific understanding of how magic can be like muggle science! Instead the book is full of explication on how \"muggle\" science is a magic in and of itself! While that can be interesting, it is not really pertient to Harry's magical world! This book centers on traditional science and is not about magic!But if you are looking for a book about muggle science as a \"magic\", then this book is okay."
          ],
          [
           "Although Bergren writes in a Christian context, this is by no means a trite \"message story.\"  The characters are deeply, richly written, frequently flawed and floundering.  They (and the reader) are caught up in the circumstances of the story, each leading naturally to the next situation.  In the end, the story is resolved, with enough questions and concern for the characters to invite the reader to move on to the next book.  Believers and non-believers will easily become absorbed in the lives of Elsa, Peder and their friends and family.I rate books as follows:***** Fun and meaningful book, or changed/challenged me in a positive way.****Really fun or meaningful; well worth the time.***Pleasantly skimmed the surface; not memorable.**Plodded through.*Abandoned; very flawed."
          ],
          [
           "It took me a little while to get into this book. Penman's Welsh Trilogy along with her other books are really quite superior to her mysteries.  With that said, the mysteries are a good read and written well, but if you are expecting it to grab you like her other books you will be disapointed.  Perhaps it's because they are shorter in length and you don't get quite as attachted to Justin as you can Richard III or Simon de Montfort or  either of the Llewelyns.  Maybe because Justin isn't based on a real person from history.  You will enjoy the book as long as you don't expect it to be like her other books."
          ],
          [
           "A very physically immediate novel, that powerfully evokes cold, hunger, and paranoia. Mailman skilfully uses her aging narrator's forgetfulness to complicate the plot and darken the atmosphere. The style is fiercely intense, as Mailman probes the mass psychology of scapegoating, in a parable about how easily other people's reality can become one's own. This study of the very fluid social dynamics of witchcraft comes interspersed with many disturbing claims from the Malleus Maleficarum, e.g. \"cats are always setting snares for each other.\" Who knew that about cats? The book takes you back to a time when people were prone to blame their problems on other people... much as they are today."
          ],
          [
           "Davies starts out the book with a silly discussion of names of palce sin the isles and then goes on to impose a brand new nomeclature because of some academic argument that no reasonable reader will care about.  This issue then persists throughout the book.  I ordered this from the UK months  ago because I was so eager to get it.  This issue so bogged me down that I  abandoned the book hal;fway through, something I never do.  It's a shame  because this is a comprehensive and valuable book in many ways."
          ],
          [
           "I, like others was very excited to read this book. I thought it would show another side to how the Tate family dealt with the murder of thier daughter Sharon. I didn't have to read much to realize however that the book is was not going to be what I expected.It is full of added dialog and assumptions. It makes it hard to tell where the truth ends and the embellishments begin. It reads more like fan fiction than a true account of this family's tragedy. I did enjoy looking at the early pictures of Sharon that I had never seen before but they were hardly worth the price of the book."
          ],
          [
           "I had been looking forward to the book, because I've enjoyed books by several of the authors, but only Kelley Armstrong delivered.  Her novella is a solid entry to her \"Women of the Underworld\" series and every bit as good as her books - just shorter.  The Kim Harrison story is a prequel to \"Dead Witch Walking\", focusing on the vampire character, but it doesn't add anything to that series or stand alone on its own merits.  The other two stories come across as cookie-cutter romances with otherworldly stuff thrown in as an afterthought, with \"Dead Man Dating\" as the better of the two.  Even though all of these authors have written good books, only one of them contributed a story worth reading."
          ],
          [
           "In this crap market, it seems the way to go is with DIVIDEND investing.  Something I wish I had followed when I first grasped this truth 20 years ago.  If ONLY I had stayed with the big dividend stocks - IBM, Chevron, etc - I probably could have retired by now.  Water under the bridge.  Now I am investing like I thought I should have all those years ago and I am subscribing to the pay for service for the privilege to do so.  If you have a better way - and really - I mean this - LET ME KNOW!  As for me and mine we are invested in the big dividend players.  If you are tired of wasting time or money or both get this book."
          ],
          [
           "Josh Graves changed the bluegrass landscape with his resophonic  guitar in 1955 in the same manner that Earl Scruggs changed it a decade earlier with his banjo.  As part of Lester Flatt and Earl Scruggs' Foggy Mountain Boys, Josh helped create a sound that brought more people to bluegrass music during the \"Folk Music\" period than any other.  Influenced by Earl's right hand technique, and blues artist, \"Lightnin' \"  Hopkins  slide guitar work,  Josh reinvented the way the instrument was played in country music and inspired generations of future players.Fred Bartenstein does a wonderful job of weaving interviews together to create a powerful story about this Bluegrass Music Hall of Fame member.If you enjoy reading about bluegrass, country or Americana music pioneers this book is highly recommended.Dennis Satterlee"
          ],
          [
           "This is a grand collection of stories that show Wodehouse at his prime. I think the appeal of this particular book is how well paced the stories are you find yourself almost racing through them because of the rapid fire wit and satire that Wodehouse throws out to the reader almost like as if one is playing tennis with the author.This is the perfect book for the bath, commuting on buses/trains/planes or waiting for an appointment. It can be easily picked up or set down as time allows.I kept a copy in my handbag for about two months and it was so relaxing to fall into the hysterical world of Bertie and his gentleman's gentleman."
          ],
          [
           "The author sounded to me as if she was so impressed with he knowledge and expertise, and that the rest of us peons would never grasp it -- markedly narcissistic. In addition, the electronic Kindle version can't play the videos that are supposed to be an integral pat of the book-- and I have a Kindle FIRE. I can watch other videos on it.I suspect the author isn't nearly as good at spotting liars as she claims to be or she'd be able to explain the process. I think the book is a lie."
          ],
          [
           "The horror that David was put through could have been prevented if the barbaric and medically unnecessary practice of routine circumcision was banned once and for all.  John Colapinto's story is well written and should  be a lesson to any parent considering circumcision of their infant boy.  Problems such as David's may be rare on the grand scale of things, but they  are not rare for the individuals that have to live through them.  Mr.  Colapinto's telling of David's story brought tears to my eyes.  It's high  time we ended routine circumcision and let all boys be &quot;As Nature Made  Him&quot;."
          ],
          [
           "I purchased THE DEEP END OF THE OCEAN right after Oprah recommended it, but just got around to reading it last week.  I thought the entire book was too contrived and I had a hard time plowing through it, even though I was determined to finish it to see what happened.  I thought some characters, like Pat, were not sufficiently developed, while others, like Candy, were over-developed.  The character I felt the most empathy for was Vincent, who never had a chance once Ben was taken.  He and Kerry had to make it on their own, and where was spineless Pat?  Anyway, sometimes I read Oprah's choices and sometimes I don't.  This is one time I wish I hadn't."
          ],
          [
           "The history of grocery lists hails back to the ancient Babylonians who would jot down the necessary items on a glistening tablet of clay. Mimi Smartypants has no time for messing about with cuniform inscriptions and records her various grocery needs in smart modern html. This is up to date Chicago purchasing whimsy you get here with handy hints on how to deal with raving lunacy on public transit, thrown in absolutely free of charge. No connoisseur of fine literate grocery lists should consider his or her collection complete without this volume.** Note to readers hoping to see Blues Clues items on these lists: the publishing industry is a slow lumbering dinosaur compared to the frantic caffeine laced world of the blogmonger. Blues Clues Be Tappin It's Narcoleptic Toes in Publisher's Anteroom. (maybe)"
          ],
          [
           "I would look for a different translation. The Oxford World Classic edition doesn't use the same words as many of the other english translations, for example in chapter two, verse 191, Al-Fitnah is translated as persecution where other texts translate it as idolatry. Chapter 9 verse 28 Mushrikun is translated as \"those who ascribe partners to God\" in other texts it is translated as idolators. In some translations Idolators includes Christians and jews, in this translation, that distinction isn't clear. I compared three different versions and have three different translations. This translation is easy reading, but I am not convinced it is an accurate translation."
          ],
          [
           "I have read several books on the Depression and was led to believe this book would give a fresh explanation that brought everything together for the average American.  Instead it seems to be a mere listing of what the main movers and shakers did; with no attempt to derive any coherence from it.  The term \"forgotten man\" is mentioned only a few times and then with multiple meanings.  The trials of average Americans seem nonexistant from this book's point of view.  Overall, it reminds me of some of the books put out by professors due to the \"publish or perish\" syndrome, but the author doesn't have that excuse.  Her book \"The Greedy Hand\" was better."
          ],
          [
           "This book is certainly informative regarding the Tibetian people, customs and mysteries surrounding their way of life and beliefs. I just wished it was more entertaining to read. I have read so many good travelogues and memoirs that I really wanted to enjoy this book. But I found the author's writing style less engaging than I hoped. The descriptions of the land high in the Himalayas and the people he encountered while at the roof of the world kept me reading, but overall the message was a bit lost on me from what I would have expected. I imagine that this would be an especially interesting read for someone studying or planning to visit Tibet, Nepal or even Bhutan. But as a travelogue, there are better options out there."
          ],
          [
           "A Hopi eagle poacher, the murder of a Navajo Tribal Policeman, a missing vector control agent sudying bubonic plague cases among the prairie dog burrows... Follow retired NTP Lieutenant Joe Leaphorn and acting Lieutenant Jim Chee on their search for the truth. This story is full of angles, troubles between local law enforcement on the reservation and the FBI, along with the return back to the reservation of Chee's half Navajo ex-fiance turned public defender that makes this novel a spellbinding story. Hillerman weaves the theme of plague and the study of antibotic resistant pathogens expertly. In the backdrop of the Navajo nations, he weaves so many elements together, but keeps you guessing until the end whodonit."
          ],
          [
           "This book has lots of tid bits of relationships between the kings and their mistresses.  The information seems to be well recorded but the composition of the book is more than I could take.  There were times that I was clueless as to whom she was speaking of because the wording jumps around from one person to another and is not clear.  That made it hard for me to follow.  There are endless notes and reference information that can get annoying after some time.  All in all the information that is presented is interesting.  It is just the way it is presented that I had trouble with.  Keep writing, I believe you may have better luck next time."
          ],
          [
           "Like some other reviewers here, I had very high hopes for this book, most of which were, in fact, fulfillled. It IS, however, a very American perspective on the game which is likely to be pretty unfulfilling for readers coming from cultures with longer histories with soccer. Conversely, it was quite satisfying for me as an American because it does manage to capture the sense of frustration Americans have felt with the lack of traction the game has gotten in this country, and the sense of hope that it is finally reaching critical mass.If you are an American reader, and you care anything about where the game has been and where it's going, the book is worth reading!"
          ],
          [
           "I've always been a big believer that your life is what you create with your thoughts. Changing your thoughts consistently over time will of course change your life. It sounds simple, and it is, if you continue to be aware of your thoughts and dismiss or let go of negative thinking or fears. The techniques outlined in this book are easily performed and very straightforward -- and give steps to re-train negative thinking into postive outcomes.  This is a wonderful resource on ways to change your life for the better. Elaine Williams"
          ],
          [
           "I got this book from the library thinking it would actually be about the Pleistocene.  It isn't.  It is more about the author droning on about how her view is so much superior to that of mere scientists.I suspect that there may be a little regurgitated information about human evolution in there somewhere, but as an ecologist, I just don't think that comes anywhere close to good enough.The invention of the Pleistocene and how we look at the time period differently over time could have been an interesting way to weave information together, but instead hubris just takes over and all the actual information gets lost within long diatribes."
          ],
          [
           "All hail Holy Mother Bee may she lay forevermore. And all hail The New York Times for not only still publishing book reviews but especially for reviewing this book. The strength of that review on May 23 intrigued me and when I read this book I was not disappointed. Sometimes authors cannot resist piling on their erudition to the detriment of story and character (see A BURNABLE BOOK). THE BEES just buzzes along (sorry), replete with information but it is worn lightly. I read it in two days. The only reason I did not read it in one was that I had to sleep. I look forward to her next book."
          ],
          [
           "This is THE bible for awk users. If you refuse to use perl, which incorporated most of awk, or have to maintain old awk scripts then this is the text.  I like the O'Reilly text for learning the basics, but after that you need this guide.  For some tasks awk is the premier solution, for others, use awk as part of the solution along with perl and a shell script. Still a cool language. And this book is very helpful for both beginning intermediate programmers of awk and advanced users."
          ],
          [
           "I was excited by the prospect of two famous people from opposing political parties setting out on a road trip to find out what makes this country so divided. However, all Meghan and Michael did was travel the country getting drunk and high. They each seem to be more absorbed in themselves and bickering with one another than caring about what anyone they met along the way had to contribute. As a young female republican who supports gay marriage and relates to Meghan McCain on many levels, I am once again disappointed by her lack of grace and misuse of her potential influence."
          ],
          [
           "This book takes a good look at surviving family members and provides some interesting points about grief and how people relate to one another and to the world during and post loss.  It was hard to sit down and read through the entire book, it does not capture you in that fashion.  It's more like wanting to know the characters end up on the other side of their experience and are \"for the better.\"  I wouldn't reccomend this book to anyone looking for a surface level easy read.  It's more about interpersonal dynamics than character development."
          ],
          [
           "It's not so much that the storyline was preposterous (it was), as it was that the author failed to get me invested in that world. There just wasn't enough structure to make it believable. About 100 page into the book I also realized that I didn't like any of the characters, and never came to care about what happened to them. If you're expecting for all the little odd bits to tie together later in the book, don't waste your time, the don't. It's all brushed aside as weird coincidence. The flaws in the book go right to the bones. Based on her other books, this one was a disappointment, but I will continue to read this author's future work."
          ],
          [
           "I did not enjoy reading \"Fall on Your Knees\". It was a bit confusing, one of those books that you have to read between the lines so much just to understand what is happening. If not, you can get totally lost. To me reading is supposed to be fun, and not work just to understand it. I think authors should just flat out tell you what is going on, and this book didn't do that. I wouldn't recommend this book, especially if you want a leisurely read, don't choose this."
          ],
          [
           "The Face Thief is a fun story about the public fronts we put up, told from the point of view of people who are good at seeing through them, but ironically blind to many of their own faults.  The science of face reading was well-researched, and got a little plodding at times, but by the end it was easy to imagine myself in the shoes of an expert in the field.  Suspense was created not so much by wondering what events would occur, but by how the characters' trust or distrust would affect their perception of events, which made it a very character-driven story that was a pleasure to read."
          ],
          [
           "This book is...well...There is no gauge, no yardage requirements, and no finished measurements. I was hoping to make doll clothes for my daughter's dolls she already has.Also, the colors in the photos differ from page to page of the same toy. The pattern says \"pink\", but the pictures say 3 different colors as each photo looks 'off' from the previouse one.Some of the toys are cute, but the author leaves so much unanswered about them that I'll just find another book, thank you."
          ]
         ],
         "hovertemplate": "emb_X=%{x}<br>emb_Y=%{y}<br>conf=%{marker.size}<br>X=%{customdata[0]}<br>Y=%{marker.color}<extra></extra>",
         "legendgroup": "",
         "marker": {
          "color": [
           1,
           0,
           1,
           0,
           1,
           0,
           1,
           1,
           1,
           0,
           0,
           1,
           1,
           0,
           1,
           1,
           0,
           0,
           0,
           1,
           0,
           1,
           1,
           1,
           0,
           0,
           0,
           1,
           1,
           1,
           0,
           1,
           0,
           1,
           0,
           0,
           0,
           1,
           0,
           1,
           1,
           0,
           1,
           1,
           0,
           0,
           0,
           0,
           1,
           0
          ],
          "coloraxis": "coloraxis",
          "size": [
           0.9498269896193771,
           0.9047619047619041,
           0.9498269896193771,
           0.6449459595676761,
           0.9047619047619041,
           0.9047619047619041,
           0.9498269896193771,
           0.9498269896193771,
           0.8444444444444441,
           0.833333333333333,
           0.8888888888888881,
           0.9498269896193771,
           0.533333333333333,
           0.9047619047619041,
           0.833333333333333,
           0.833333333333333,
           0.8903454961331391,
           0.5,
           0.8444444444444441,
           0.9498269896193771,
           0.636363636363636,
           0.7272727272727271,
           0.533333333333333,
           0.9498269896193771,
           0.9047619047619041,
           0.7272727272727271,
           0.833333333333333,
           0.5,
           0.9498269896193771,
           0.9498269896193771,
           0.833333333333333,
           0.9498269896193771,
           0.9047619047619041,
           0.6666666666666661,
           0.8444444444444441,
           0.833333333333333,
           0.833333333333333,
           0.9498269896193771,
           0.9047619047619041,
           0.7272727272727271,
           0.9498269896193771,
           0.833333333333333,
           0.8444444444444441,
           0.9498269896193771,
           0.6020240397899971,
           0.9047619047619041,
           0.833333333333333,
           0.8888888888888881,
           0.9498269896193771,
           0.940279922913074
          ],
          "sizemode": "area",
          "sizeref": 0.0023745674740484426,
          "symbol": "circle"
         },
         "mode": "markers",
         "name": "",
         "orientation": "v",
         "showlegend": false,
         "type": "scatter",
         "x": [
          7.795756816864014,
          4.705898284912109,
          7.276406764984131,
          6.078758239746094,
          6.284437656402588,
          4.128418922424316,
          4.2681097984313965,
          5.373294353485107,
          4.511765480041504,
          3.1248884201049805,
          4.112035274505615,
          3.575772523880005,
          2.1300411224365234,
          3.48142409324646,
          6.520785808563232,
          6.77282190322876,
          3.46652889251709,
          4.495588779449463,
          3.3827672004699707,
          7.231288909912109,
          4.129421710968018,
          7.137383937835693,
          6.684309482574463,
          4.1916117668151855,
          3.319516181945801,
          5.575718402862549,
          7.2542405128479,
          5.117863178253174,
          8.356341361999512,
          8.264854431152344,
          2.342442512512207,
          3.372769355773926,
          3.684258460998535,
          4.587568759918213,
          3.564866065979004,
          4.4534759521484375,
          6.666459083557129,
          4.568702697753906,
          5.013556003570557,
          7.026387691497803,
          7.974564075469971,
          3.79624342918396,
          7.295264720916748,
          7.716707229614258,
          3.3310673236846924,
          6.034598350524902,
          2.412792444229126,
          2.3009557723999023,
          7.793854713439941,
          6.333146572113037
         ],
         "xaxis": "x",
         "y": [
          -6.108062744140625,
          -6.104208469390869,
          -5.515429973602295,
          -6.414029598236084,
          -5.826723098754883,
          -5.18377161026001,
          -4.706442832946777,
          -5.853135108947754,
          -5.692354202270508,
          -5.799219131469727,
          -5.87980842590332,
          -4.3945207595825195,
          -5.676161289215088,
          -5.867221355438232,
          -6.664103984832764,
          -6.071296691894531,
          -4.771021366119385,
          -5.900432109832764,
          -5.232996463775635,
          -6.183931827545166,
          -5.984842777252197,
          -6.129244327545166,
          -6.251176357269287,
          -5.376642227172852,
          -5.718543529510498,
          -6.120449542999268,
          -6.350505828857422,
          -5.803838729858398,
          -6.720195293426514,
          -6.690797328948975,
          -5.601110458374023,
          -5.205559253692627,
          -5.7233171463012695,
          -5.358510971069336,
          -4.931046009063721,
          -5.570474147796631,
          -6.423816204071045,
          -4.453849792480469,
          -5.986579418182373,
          -6.507761478424072,
          -6.6925435066223145,
          -5.577788352966309,
          -6.599951267242432,
          -6.705397129058838,
          -5.824018955230713,
          -6.051654815673828,
          -5.574915885925293,
          -5.711037635803223,
          -6.263128757476807,
          -6.21223258972168
         ],
         "yaxis": "y"
        }
       ],
       "layout": {
        "coloraxis": {
         "colorbar": {
          "title": {
           "text": "Y"
          }
         },
         "colorscale": [
          [
           0,
           "#0d0887"
          ],
          [
           0.1111111111111111,
           "#46039f"
          ],
          [
           0.2222222222222222,
           "#7201a8"
          ],
          [
           0.3333333333333333,
           "#9c179e"
          ],
          [
           0.4444444444444444,
           "#bd3786"
          ],
          [
           0.5555555555555556,
           "#d8576b"
          ],
          [
           0.6666666666666666,
           "#ed7953"
          ],
          [
           0.7777777777777778,
           "#fb9f3a"
          ],
          [
           0.8888888888888888,
           "#fdca26"
          ],
          [
           1,
           "#f0f921"
          ]
         ]
        },
        "height": 800,
        "hoverlabel": {
         "font": {
          "family": "Rockwell",
          "size": 7
         }
        },
        "legend": {
         "itemsizing": "constant",
         "tracegroupgap": 0
        },
        "margin": {
         "t": 60
        },
        "template": {
         "data": {
          "bar": [
           {
            "error_x": {
             "color": "#2a3f5f"
            },
            "error_y": {
             "color": "#2a3f5f"
            },
            "marker": {
             "line": {
              "color": "#E5ECF6",
              "width": 0.5
             },
             "pattern": {
              "fillmode": "overlay",
              "size": 10,
              "solidity": 0.2
             }
            },
            "type": "bar"
           }
          ],
          "barpolar": [
           {
            "marker": {
             "line": {
              "color": "#E5ECF6",
              "width": 0.5
             },
             "pattern": {
              "fillmode": "overlay",
              "size": 10,
              "solidity": 0.2
             }
            },
            "type": "barpolar"
           }
          ],
          "carpet": [
           {
            "aaxis": {
             "endlinecolor": "#2a3f5f",
             "gridcolor": "white",
             "linecolor": "white",
             "minorgridcolor": "white",
             "startlinecolor": "#2a3f5f"
            },
            "baxis": {
             "endlinecolor": "#2a3f5f",
             "gridcolor": "white",
             "linecolor": "white",
             "minorgridcolor": "white",
             "startlinecolor": "#2a3f5f"
            },
            "type": "carpet"
           }
          ],
          "choropleth": [
           {
            "colorbar": {
             "outlinewidth": 0,
             "ticks": ""
            },
            "type": "choropleth"
           }
          ],
          "contour": [
           {
            "colorbar": {
             "outlinewidth": 0,
             "ticks": ""
            },
            "colorscale": [
             [
              0,
              "#0d0887"
             ],
             [
              0.1111111111111111,
              "#46039f"
             ],
             [
              0.2222222222222222,
              "#7201a8"
             ],
             [
              0.3333333333333333,
              "#9c179e"
             ],
             [
              0.4444444444444444,
              "#bd3786"
             ],
             [
              0.5555555555555556,
              "#d8576b"
             ],
             [
              0.6666666666666666,
              "#ed7953"
             ],
             [
              0.7777777777777778,
              "#fb9f3a"
             ],
             [
              0.8888888888888888,
              "#fdca26"
             ],
             [
              1,
              "#f0f921"
             ]
            ],
            "type": "contour"
           }
          ],
          "contourcarpet": [
           {
            "colorbar": {
             "outlinewidth": 0,
             "ticks": ""
            },
            "type": "contourcarpet"
           }
          ],
          "heatmap": [
           {
            "colorbar": {
             "outlinewidth": 0,
             "ticks": ""
            },
            "colorscale": [
             [
              0,
              "#0d0887"
             ],
             [
              0.1111111111111111,
              "#46039f"
             ],
             [
              0.2222222222222222,
              "#7201a8"
             ],
             [
              0.3333333333333333,
              "#9c179e"
             ],
             [
              0.4444444444444444,
              "#bd3786"
             ],
             [
              0.5555555555555556,
              "#d8576b"
             ],
             [
              0.6666666666666666,
              "#ed7953"
             ],
             [
              0.7777777777777778,
              "#fb9f3a"
             ],
             [
              0.8888888888888888,
              "#fdca26"
             ],
             [
              1,
              "#f0f921"
             ]
            ],
            "type": "heatmap"
           }
          ],
          "heatmapgl": [
           {
            "colorbar": {
             "outlinewidth": 0,
             "ticks": ""
            },
            "colorscale": [
             [
              0,
              "#0d0887"
             ],
             [
              0.1111111111111111,
              "#46039f"
             ],
             [
              0.2222222222222222,
              "#7201a8"
             ],
             [
              0.3333333333333333,
              "#9c179e"
             ],
             [
              0.4444444444444444,
              "#bd3786"
             ],
             [
              0.5555555555555556,
              "#d8576b"
             ],
             [
              0.6666666666666666,
              "#ed7953"
             ],
             [
              0.7777777777777778,
              "#fb9f3a"
             ],
             [
              0.8888888888888888,
              "#fdca26"
             ],
             [
              1,
              "#f0f921"
             ]
            ],
            "type": "heatmapgl"
           }
          ],
          "histogram": [
           {
            "marker": {
             "pattern": {
              "fillmode": "overlay",
              "size": 10,
              "solidity": 0.2
             }
            },
            "type": "histogram"
           }
          ],
          "histogram2d": [
           {
            "colorbar": {
             "outlinewidth": 0,
             "ticks": ""
            },
            "colorscale": [
             [
              0,
              "#0d0887"
             ],
             [
              0.1111111111111111,
              "#46039f"
             ],
             [
              0.2222222222222222,
              "#7201a8"
             ],
             [
              0.3333333333333333,
              "#9c179e"
             ],
             [
              0.4444444444444444,
              "#bd3786"
             ],
             [
              0.5555555555555556,
              "#d8576b"
             ],
             [
              0.6666666666666666,
              "#ed7953"
             ],
             [
              0.7777777777777778,
              "#fb9f3a"
             ],
             [
              0.8888888888888888,
              "#fdca26"
             ],
             [
              1,
              "#f0f921"
             ]
            ],
            "type": "histogram2d"
           }
          ],
          "histogram2dcontour": [
           {
            "colorbar": {
             "outlinewidth": 0,
             "ticks": ""
            },
            "colorscale": [
             [
              0,
              "#0d0887"
             ],
             [
              0.1111111111111111,
              "#46039f"
             ],
             [
              0.2222222222222222,
              "#7201a8"
             ],
             [
              0.3333333333333333,
              "#9c179e"
             ],
             [
              0.4444444444444444,
              "#bd3786"
             ],
             [
              0.5555555555555556,
              "#d8576b"
             ],
             [
              0.6666666666666666,
              "#ed7953"
             ],
             [
              0.7777777777777778,
              "#fb9f3a"
             ],
             [
              0.8888888888888888,
              "#fdca26"
             ],
             [
              1,
              "#f0f921"
             ]
            ],
            "type": "histogram2dcontour"
           }
          ],
          "mesh3d": [
           {
            "colorbar": {
             "outlinewidth": 0,
             "ticks": ""
            },
            "type": "mesh3d"
           }
          ],
          "parcoords": [
           {
            "line": {
             "colorbar": {
              "outlinewidth": 0,
              "ticks": ""
             }
            },
            "type": "parcoords"
           }
          ],
          "pie": [
           {
            "automargin": true,
            "type": "pie"
           }
          ],
          "scatter": [
           {
            "marker": {
             "colorbar": {
              "outlinewidth": 0,
              "ticks": ""
             }
            },
            "type": "scatter"
           }
          ],
          "scatter3d": [
           {
            "line": {
             "colorbar": {
              "outlinewidth": 0,
              "ticks": ""
             }
            },
            "marker": {
             "colorbar": {
              "outlinewidth": 0,
              "ticks": ""
             }
            },
            "type": "scatter3d"
           }
          ],
          "scattercarpet": [
           {
            "marker": {
             "colorbar": {
              "outlinewidth": 0,
              "ticks": ""
             }
            },
            "type": "scattercarpet"
           }
          ],
          "scattergeo": [
           {
            "marker": {
             "colorbar": {
              "outlinewidth": 0,
              "ticks": ""
             }
            },
            "type": "scattergeo"
           }
          ],
          "scattergl": [
           {
            "marker": {
             "colorbar": {
              "outlinewidth": 0,
              "ticks": ""
             }
            },
            "type": "scattergl"
           }
          ],
          "scattermapbox": [
           {
            "marker": {
             "colorbar": {
              "outlinewidth": 0,
              "ticks": ""
             }
            },
            "type": "scattermapbox"
           }
          ],
          "scatterpolar": [
           {
            "marker": {
             "colorbar": {
              "outlinewidth": 0,
              "ticks": ""
             }
            },
            "type": "scatterpolar"
           }
          ],
          "scatterpolargl": [
           {
            "marker": {
             "colorbar": {
              "outlinewidth": 0,
              "ticks": ""
             }
            },
            "type": "scatterpolargl"
           }
          ],
          "scatterternary": [
           {
            "marker": {
             "colorbar": {
              "outlinewidth": 0,
              "ticks": ""
             }
            },
            "type": "scatterternary"
           }
          ],
          "surface": [
           {
            "colorbar": {
             "outlinewidth": 0,
             "ticks": ""
            },
            "colorscale": [
             [
              0,
              "#0d0887"
             ],
             [
              0.1111111111111111,
              "#46039f"
             ],
             [
              0.2222222222222222,
              "#7201a8"
             ],
             [
              0.3333333333333333,
              "#9c179e"
             ],
             [
              0.4444444444444444,
              "#bd3786"
             ],
             [
              0.5555555555555556,
              "#d8576b"
             ],
             [
              0.6666666666666666,
              "#ed7953"
             ],
             [
              0.7777777777777778,
              "#fb9f3a"
             ],
             [
              0.8888888888888888,
              "#fdca26"
             ],
             [
              1,
              "#f0f921"
             ]
            ],
            "type": "surface"
           }
          ],
          "table": [
           {
            "cells": {
             "fill": {
              "color": "#EBF0F8"
             },
             "line": {
              "color": "white"
             }
            },
            "header": {
             "fill": {
              "color": "#C8D4E3"
             },
             "line": {
              "color": "white"
             }
            },
            "type": "table"
           }
          ]
         },
         "layout": {
          "annotationdefaults": {
           "arrowcolor": "#2a3f5f",
           "arrowhead": 0,
           "arrowwidth": 1
          },
          "autotypenumbers": "strict",
          "coloraxis": {
           "colorbar": {
            "outlinewidth": 0,
            "ticks": ""
           }
          },
          "colorscale": {
           "diverging": [
            [
             0,
             "#8e0152"
            ],
            [
             0.1,
             "#c51b7d"
            ],
            [
             0.2,
             "#de77ae"
            ],
            [
             0.3,
             "#f1b6da"
            ],
            [
             0.4,
             "#fde0ef"
            ],
            [
             0.5,
             "#f7f7f7"
            ],
            [
             0.6,
             "#e6f5d0"
            ],
            [
             0.7,
             "#b8e186"
            ],
            [
             0.8,
             "#7fbc41"
            ],
            [
             0.9,
             "#4d9221"
            ],
            [
             1,
             "#276419"
            ]
           ],
           "sequential": [
            [
             0,
             "#0d0887"
            ],
            [
             0.1111111111111111,
             "#46039f"
            ],
            [
             0.2222222222222222,
             "#7201a8"
            ],
            [
             0.3333333333333333,
             "#9c179e"
            ],
            [
             0.4444444444444444,
             "#bd3786"
            ],
            [
             0.5555555555555556,
             "#d8576b"
            ],
            [
             0.6666666666666666,
             "#ed7953"
            ],
            [
             0.7777777777777778,
             "#fb9f3a"
            ],
            [
             0.8888888888888888,
             "#fdca26"
            ],
            [
             1,
             "#f0f921"
            ]
           ],
           "sequentialminus": [
            [
             0,
             "#0d0887"
            ],
            [
             0.1111111111111111,
             "#46039f"
            ],
            [
             0.2222222222222222,
             "#7201a8"
            ],
            [
             0.3333333333333333,
             "#9c179e"
            ],
            [
             0.4444444444444444,
             "#bd3786"
            ],
            [
             0.5555555555555556,
             "#d8576b"
            ],
            [
             0.6666666666666666,
             "#ed7953"
            ],
            [
             0.7777777777777778,
             "#fb9f3a"
            ],
            [
             0.8888888888888888,
             "#fdca26"
            ],
            [
             1,
             "#f0f921"
            ]
           ]
          },
          "colorway": [
           "#636efa",
           "#EF553B",
           "#00cc96",
           "#ab63fa",
           "#FFA15A",
           "#19d3f3",
           "#FF6692",
           "#B6E880",
           "#FF97FF",
           "#FECB52"
          ],
          "font": {
           "color": "#2a3f5f"
          },
          "geo": {
           "bgcolor": "white",
           "lakecolor": "white",
           "landcolor": "#E5ECF6",
           "showlakes": true,
           "showland": true,
           "subunitcolor": "white"
          },
          "hoverlabel": {
           "align": "left"
          },
          "hovermode": "closest",
          "mapbox": {
           "style": "light"
          },
          "paper_bgcolor": "white",
          "plot_bgcolor": "#E5ECF6",
          "polar": {
           "angularaxis": {
            "gridcolor": "white",
            "linecolor": "white",
            "ticks": ""
           },
           "bgcolor": "#E5ECF6",
           "radialaxis": {
            "gridcolor": "white",
            "linecolor": "white",
            "ticks": ""
           }
          },
          "scene": {
           "xaxis": {
            "backgroundcolor": "#E5ECF6",
            "gridcolor": "white",
            "gridwidth": 2,
            "linecolor": "white",
            "showbackground": true,
            "ticks": "",
            "zerolinecolor": "white"
           },
           "yaxis": {
            "backgroundcolor": "#E5ECF6",
            "gridcolor": "white",
            "gridwidth": 2,
            "linecolor": "white",
            "showbackground": true,
            "ticks": "",
            "zerolinecolor": "white"
           },
           "zaxis": {
            "backgroundcolor": "#E5ECF6",
            "gridcolor": "white",
            "gridwidth": 2,
            "linecolor": "white",
            "showbackground": true,
            "ticks": "",
            "zerolinecolor": "white"
           }
          },
          "shapedefaults": {
           "line": {
            "color": "#2a3f5f"
           }
          },
          "ternary": {
           "aaxis": {
            "gridcolor": "white",
            "linecolor": "white",
            "ticks": ""
           },
           "baxis": {
            "gridcolor": "white",
            "linecolor": "white",
            "ticks": ""
           },
           "bgcolor": "#E5ECF6",
           "caxis": {
            "gridcolor": "white",
            "linecolor": "white",
            "ticks": ""
           }
          },
          "title": {
           "x": 0.05
          },
          "xaxis": {
           "automargin": true,
           "gridcolor": "white",
           "linecolor": "white",
           "ticks": "",
           "title": {
            "standoff": 15
           },
           "zerolinecolor": "white",
           "zerolinewidth": 2
          },
          "yaxis": {
           "automargin": true,
           "gridcolor": "white",
           "linecolor": "white",
           "ticks": "",
           "title": {
            "standoff": 15
           },
           "zerolinecolor": "white",
           "zerolinewidth": 2
          }
         }
        },
        "width": 800,
        "xaxis": {
         "anchor": "y",
         "domain": [
          0,
          1
         ],
         "title": {
          "text": "emb_X"
         }
        },
        "yaxis": {
         "anchor": "x",
         "domain": [
          0,
          1
         ],
         "title": {
          "text": "emb_Y"
         }
        }
       }
      },
      "text/html": [
       "<div>                            <div id=\"7f13d169-243a-40af-9b20-66cbcc9ff505\" class=\"plotly-graph-div\" style=\"height:800px; width:800px;\"></div>            <script type=\"text/javascript\">                require([\"plotly\"], function(Plotly) {                    window.PLOTLYENV=window.PLOTLYENV || {};                                    if (document.getElementById(\"7f13d169-243a-40af-9b20-66cbcc9ff505\")) {                    Plotly.newPlot(                        \"7f13d169-243a-40af-9b20-66cbcc9ff505\",                        [{\"customdata\":[[\"I found the history of Descartes bones and what became of them fascinating. I was not aware of bone collectors; both in the church and by secular persons, each with their own motives.  I liked the Intermix of history, the beliefs of Descartes, and how the gift of \\\"Reason\\\" has shaped our modern world. In the end, the author shares his philosophy, desiring a balance (perhaps a truce) between reason & religion thru the stories of modern day people. Some effected tragically by religion, while others find comfort.\"],[\"This book was a retelling of Cinderella from the Fairy Godmother's point of view. It takes some liberties with the original Cinderella story. In this book's version, the Fairy Godmother was young and beautiful like Cinderella. She majorly screwed up when trying to help Cinderella get to the ball and was banished to live as a human on earth as punishment.The beginning and middle of this book was so slow I had trouble maintaining interest. The last twenty pages were exciting - I would have expanded this section and fleshed it out more. I spent most of the book waiting for something to happen and when it finally did, it was over in a flash.\"],[\"This work juxtaposes the commercial trappings of the sacred holiday with the true Christmas spirit, social interference with human interdependence, individual freedoms with community obligations, and it does so by satirizing the monolithic conventions of conformity. One clever touch: the out-of-synch protagonist's surname, Krank, means &quot;sick&quot; in German, and, although he and his family are portrayed as Roman Catholics, his first name, Luther, clearly suggests a budding Protestantism, expressed not by nailing documents to a church door but by distributing among his office co-workers a memo detailing his intended non-observance. In all, a gem.\"],[\"This is the title that closes the chapter on Stephenson for me.  I'd enjoyed Snow Crash enough to overlook the accumulating cuteness that gooed up the end, and I found sufficient merit in Diamond Age to offset the even  larger splashes of the same defect marring that volume.  Despite  its ambitious conception, however, Cryptonomicon is a showcase of sloppy writing and  errors of fact.  The tone throughout is  cleverness so precious it gags.  Cute.  It's just so preciously cute.  Disappointment is compounded when a talented writer mistakes energy for effort.\"],[\"There is a lot of repetition from other books written by Dr.Weil.  Also, I believe that some of his remedies are probably not very effective.  This is not to say that anyone would be harmed by any of his suggestions.  And I think the main thrust of his writings is right on the mark.  In fact, if someone follows all his suggestions they will become healthier than they would be otherwise.  They would pay a lot more money than needed, but they would surely benefit - unless their health has gone down past the point of no return.\"],[\"I would not have purchased this particular edition of Snow Falling on Cedars if I had known it was published for the European market. I gave the book to an American 13 year old who is still learning rules for grammar and punctuation. Although the story is the same, the punctuation reflects the rules of Oxford English therefore, I had to tell her to ignore the punctuation so she would not pick it up and use it in her own American classroom essays. It is a learning experience, of course, but a needless one at this point.\"],[\"Donna Leon's Commissario Guido Brunetti offers firsthand glimpses into the everyday life of the police of Venice's Questore. This story breaks just as Brunetti is scheduled to take his family to the mountains to escape the sweltering heat of August in the city. No such luck for Guido, who must stay and solve an unsavory murder in the Maghera, a particularly repellent industrial section of the municipality. But the fingers of fate soon slither across the channel to entangle some of the most elevated members of Venetian life. Once again Brunetti proves that there is no substitute for thorough, if mundane, investigative work to assure that justice prevails.\"],[\"Stephanie Plum is broke.  She is desperate.  Once she learns that she can make $10,000 as a bounty hunter, she decides to learn the tricks of the trade.  Her first task is to bring in Joe Morelli, someone from her past.  Now he's a cop accused of murder and presently, on the lamb.  Stephanie learns the trade the hard way as we follow her foibles and mishaps, yet there is something endearing about her obstinate attitude.  In search of Joe, she gets mixed up with a sadistic boxer, his manager, two call girls, and a butcher.  Evanovich, the author, writes superbly with a tight plot and witty prose.  A fun read that doesn't disappoint you!\"],[\"I disagree w/last reviewer.  Flatland doesn't just lampoon the 1880's.  Victorian is Abbott's writing style.  But his social comment is as sharp today as Gulliver, and Screwtape's. If you can't spot the irony the entire  book is offensive.  If you do spot it, the parallels between say - its  women &amp; the current suppression in Afganistan, or education &amp;  Chinease purges, or angling up &amp; US college sport programs - are  hilarious and bone chilling.  Abbot's  guesses on equator based navigation  are quite accurate.  North swimming bacteria actually have a lot in common  with the travelers in Flatland.\"],[\"I bought the book because Terry Pratchett had a hand In writing it. However, it bears no resemble to any previous Pratchett novel, all of which I own and have read, including the non-Diskworld novels.This is science-fiction-with-omniscient-machine-ruling/saving-the-world, with alternative planets thrown in for good measure.  There are a few passing references to Diskworld, like the use of Lobsang, but that is as close as this book gets to being a Terry Pratchett novel.Personally I hated the book, especially the ending, which seemed meaningless, pointless and raw to me.If you, like me, were hoping for something recognizable as the work of Terry Pratchett, you will be disappointed  with this book. If you are a hardcore SciFi fan, it might be just your taste.\"],[\"Much of the publicity for this book focused on the fact that Oscar is an uber-nerd who uses lots of references to nerd culture from the 1980's and 90's. How could I resist buying this book?But the more I read, the more I realized that the book is really about the terrible atrocities committed by Rafael Trujillo, dictator of the Dominican Republic from 1930 until 1961. The victims of the Trujillo regime deserve to be acknowledged and memorialized, and this book is a step in the right direction. However, the reader should be prepared for graphic depictions of torture, and an otherwise very dark read.In addition, I thought several plot elements were derivative of better novels, and I didn't find the main characters very compelling.\"],[\"Becca's brother has disappeared and the only clue leads her to Hard Ink Tattoo shop and Nick Rixbey.  Rixbey had been part of an elite team led by her deceased father- her father who betrayed his team and country and unbeknownst to Becca he ruined the team too. As they start investigating they find a trail to a sophisticated gang called The Church and the plot thickens because her dad was involved in drugs and so is The Church....So the remaining team members elect to get together and find Charley and hopefully find info to clear their names.....\"],[\"I do not have the vocabulary to adequately tell you what this book is about but I will try. It is about a man who is educated way, way beyond his intelligence. He is useless, worthless and a complete moron. I never laughed so hard in my life. The situations he gets himself into from a hotdog vendor, to office worker, to trying to start a uprising in a factory, this man is useless.Have a dictionary nearby. For once, you have a book that isn't written at the 5th grade level.\"],[\"All men, all the time. Same is true for &#34;Beautiful Ruins&#34; - Jess Walter writes from the male perspective and there are few, if any, speaking parts for women. It's sad and frustrating, and I was looking forward to &#34;We Live In Water&#34;, after enduring the testosterone-infused &#34;Beautiful Ruins&#34;. This writer seems fully capable of creating an engaging story line - but it's always  about men.\"],[\"Dad just sat around reading the newspaper,  so really, why not?  Mom wasn't too pleased when she found out Dad had been traded off.  The amusing part is that all the other neighborhood kids kept trading him around too, because he really wasn't all that interesting.  I thought this would be a good book to read to my 5 year old grandson, but he didn't find it funny.  He thought it was just mean to trade off Dad!  The book was well written and I think many children would actually like the concept!\"],[\"I find the topic of what animals are thinking to be very interesting.  My son is autistic, so some of the points in the book were useful.  I do have a bias towards believing that animals are more aware than people, expecially scientists, give them credit for being.  Some of the specific examples she uses to illustrate her agument get bothersomely repetitive (yellow rain coat, black hat).  Towards the end of the book, her tangent about animal consciousness goes beyond what is supportable by research.  I'm inclined to agree, but could see where people who are not would find it problematic.\"],[\"This book draws you in, it lets you discover things at the same rate as the characters. However when you stop to think about the Loriens and the Mogadorians it kinda falls apart, there is no real explanation for the magic they are able to use and why it works on earth, no explanation for the spell that they can only be killed in order! What would happen if they decapitated someone out of order! would is body keep walking without a head or does the fact that he is not the next to go make him immortal! how does that work!\"],[\"Kept waiting for the action to really heat up but the author seemed far too concerned with the 'atmosphere' he was creating to carry the tale along.  And Detroit for a setting?  Lame.  It was my first Elmore Leonard book after being urged by friends to give him a try.  Guess I tried the wrong book?  They'll probably make a movie out of this one (as they did with Leonard's other books), and that might be better to wait for as it will only take up 2 hours of your time and the visual of the characters might add something to the story's more sexual and deadlier moments.\"],[\"The so-called Vatican Waltz of the title is a clever name for a predictable stance and maneuver of the church in dealing with issues that threaten to shake its traditional core, at least in the pre-Pope Francis era..Without giving away too much (as I sometimes have in previous reviews), let me say simply that the author disappoints in never fully engaging his lead character and his readers.  We know too little of what she really thinks, feels and - especially - what she experiences in her mystical prayer modes.  Rather, everything comes to the reader seeming to be &#34;second hand&#34; and never drawn in sharp enough images.An interesting topic that just did not rise to the occasion, in my opinion.\"],[\"When I read this book in college, it really dragged for me. I was more inclined to read with \\\"narrative lust\\\" (as I was informed by a professor) than to savor fine writing. However, rereading Pride and Prejudice in the annotated edition was really a revelation to me. Taking time to read the annotations forced me to slow down and really look at the world Austen was describing--and it was almost like visiting another universe. Previously, I had glossed over all of the humor, especially with Mr. Collins, and was clueless about the implications of one's choice of carriage. The historical context provided by the annotations really helped to appreciate the characters as well.\"],[\"I was disappointed with the subject and the content of this book. I was expecting to read about how magic can be like an exoteric branch in science. I wanted to read a scientific understanding of how magic can be like muggle science! Instead the book is full of explication on how \\\"muggle\\\" science is a magic in and of itself! While that can be interesting, it is not really pertient to Harry's magical world! This book centers on traditional science and is not about magic!But if you are looking for a book about muggle science as a \\\"magic\\\", then this book is okay.\"],[\"Although Bergren writes in a Christian context, this is by no means a trite \\\"message story.\\\"  The characters are deeply, richly written, frequently flawed and floundering.  They (and the reader) are caught up in the circumstances of the story, each leading naturally to the next situation.  In the end, the story is resolved, with enough questions and concern for the characters to invite the reader to move on to the next book.  Believers and non-believers will easily become absorbed in the lives of Elsa, Peder and their friends and family.I rate books as follows:***** Fun and meaningful book, or changed/challenged me in a positive way.****Really fun or meaningful; well worth the time.***Pleasantly skimmed the surface; not memorable.**Plodded through.*Abandoned; very flawed.\"],[\"It took me a little while to get into this book. Penman's Welsh Trilogy along with her other books are really quite superior to her mysteries.  With that said, the mysteries are a good read and written well, but if you are expecting it to grab you like her other books you will be disapointed.  Perhaps it's because they are shorter in length and you don't get quite as attachted to Justin as you can Richard III or Simon de Montfort or  either of the Llewelyns.  Maybe because Justin isn't based on a real person from history.  You will enjoy the book as long as you don't expect it to be like her other books.\"],[\"A very physically immediate novel, that powerfully evokes cold, hunger, and paranoia. Mailman skilfully uses her aging narrator's forgetfulness to complicate the plot and darken the atmosphere. The style is fiercely intense, as Mailman probes the mass psychology of scapegoating, in a parable about how easily other people's reality can become one's own. This study of the very fluid social dynamics of witchcraft comes interspersed with many disturbing claims from the Malleus Maleficarum, e.g. \\\"cats are always setting snares for each other.\\\" Who knew that about cats? The book takes you back to a time when people were prone to blame their problems on other people... much as they are today.\"],[\"Davies starts out the book with a silly discussion of names of palce sin the isles and then goes on to impose a brand new nomeclature because of some academic argument that no reasonable reader will care about.  This issue then persists throughout the book.  I ordered this from the UK months  ago because I was so eager to get it.  This issue so bogged me down that I  abandoned the book hal;fway through, something I never do.  It's a shame  because this is a comprehensive and valuable book in many ways.\"],[\"I, like others was very excited to read this book. I thought it would show another side to how the Tate family dealt with the murder of thier daughter Sharon. I didn't have to read much to realize however that the book is was not going to be what I expected.It is full of added dialog and assumptions. It makes it hard to tell where the truth ends and the embellishments begin. It reads more like fan fiction than a true account of this family's tragedy. I did enjoy looking at the early pictures of Sharon that I had never seen before but they were hardly worth the price of the book.\"],[\"I had been looking forward to the book, because I've enjoyed books by several of the authors, but only Kelley Armstrong delivered.  Her novella is a solid entry to her \\\"Women of the Underworld\\\" series and every bit as good as her books - just shorter.  The Kim Harrison story is a prequel to \\\"Dead Witch Walking\\\", focusing on the vampire character, but it doesn't add anything to that series or stand alone on its own merits.  The other two stories come across as cookie-cutter romances with otherworldly stuff thrown in as an afterthought, with \\\"Dead Man Dating\\\" as the better of the two.  Even though all of these authors have written good books, only one of them contributed a story worth reading.\"],[\"In this crap market, it seems the way to go is with DIVIDEND investing.  Something I wish I had followed when I first grasped this truth 20 years ago.  If ONLY I had stayed with the big dividend stocks - IBM, Chevron, etc - I probably could have retired by now.  Water under the bridge.  Now I am investing like I thought I should have all those years ago and I am subscribing to the pay for service for the privilege to do so.  If you have a better way - and really - I mean this - LET ME KNOW!  As for me and mine we are invested in the big dividend players.  If you are tired of wasting time or money or both get this book.\"],[\"Josh Graves changed the bluegrass landscape with his resophonic  guitar in 1955 in the same manner that Earl Scruggs changed it a decade earlier with his banjo.  As part of Lester Flatt and Earl Scruggs' Foggy Mountain Boys, Josh helped create a sound that brought more people to bluegrass music during the \\\"Folk Music\\\" period than any other.  Influenced by Earl's right hand technique, and blues artist, \\\"Lightnin' \\\"  Hopkins  slide guitar work,  Josh reinvented the way the instrument was played in country music and inspired generations of future players.Fred Bartenstein does a wonderful job of weaving interviews together to create a powerful story about this Bluegrass Music Hall of Fame member.If you enjoy reading about bluegrass, country or Americana music pioneers this book is highly recommended.Dennis Satterlee\"],[\"This is a grand collection of stories that show Wodehouse at his prime. I think the appeal of this particular book is how well paced the stories are you find yourself almost racing through them because of the rapid fire wit and satire that Wodehouse throws out to the reader almost like as if one is playing tennis with the author.This is the perfect book for the bath, commuting on buses/trains/planes or waiting for an appointment. It can be easily picked up or set down as time allows.I kept a copy in my handbag for about two months and it was so relaxing to fall into the hysterical world of Bertie and his gentleman's gentleman.\"],[\"The author sounded to me as if she was so impressed with he knowledge and expertise, and that the rest of us peons would never grasp it -- markedly narcissistic. In addition, the electronic Kindle version can't play the videos that are supposed to be an integral pat of the book-- and I have a Kindle FIRE. I can watch other videos on it.I suspect the author isn't nearly as good at spotting liars as she claims to be or she'd be able to explain the process. I think the book is a lie.\"],[\"The horror that David was put through could have been prevented if the barbaric and medically unnecessary practice of routine circumcision was banned once and for all.  John Colapinto's story is well written and should  be a lesson to any parent considering circumcision of their infant boy.  Problems such as David's may be rare on the grand scale of things, but they  are not rare for the individuals that have to live through them.  Mr.  Colapinto's telling of David's story brought tears to my eyes.  It's high  time we ended routine circumcision and let all boys be &quot;As Nature Made  Him&quot;.\"],[\"I purchased THE DEEP END OF THE OCEAN right after Oprah recommended it, but just got around to reading it last week.  I thought the entire book was too contrived and I had a hard time plowing through it, even though I was determined to finish it to see what happened.  I thought some characters, like Pat, were not sufficiently developed, while others, like Candy, were over-developed.  The character I felt the most empathy for was Vincent, who never had a chance once Ben was taken.  He and Kerry had to make it on their own, and where was spineless Pat?  Anyway, sometimes I read Oprah's choices and sometimes I don't.  This is one time I wish I hadn't.\"],[\"The history of grocery lists hails back to the ancient Babylonians who would jot down the necessary items on a glistening tablet of clay. Mimi Smartypants has no time for messing about with cuniform inscriptions and records her various grocery needs in smart modern html. This is up to date Chicago purchasing whimsy you get here with handy hints on how to deal with raving lunacy on public transit, thrown in absolutely free of charge. No connoisseur of fine literate grocery lists should consider his or her collection complete without this volume.** Note to readers hoping to see Blues Clues items on these lists: the publishing industry is a slow lumbering dinosaur compared to the frantic caffeine laced world of the blogmonger. Blues Clues Be Tappin It's Narcoleptic Toes in Publisher's Anteroom. (maybe)\"],[\"I would look for a different translation. The Oxford World Classic edition doesn't use the same words as many of the other english translations, for example in chapter two, verse 191, Al-Fitnah is translated as persecution where other texts translate it as idolatry. Chapter 9 verse 28 Mushrikun is translated as \\\"those who ascribe partners to God\\\" in other texts it is translated as idolators. In some translations Idolators includes Christians and jews, in this translation, that distinction isn't clear. I compared three different versions and have three different translations. This translation is easy reading, but I am not convinced it is an accurate translation.\"],[\"I have read several books on the Depression and was led to believe this book would give a fresh explanation that brought everything together for the average American.  Instead it seems to be a mere listing of what the main movers and shakers did; with no attempt to derive any coherence from it.  The term \\\"forgotten man\\\" is mentioned only a few times and then with multiple meanings.  The trials of average Americans seem nonexistant from this book's point of view.  Overall, it reminds me of some of the books put out by professors due to the \\\"publish or perish\\\" syndrome, but the author doesn't have that excuse.  Her book \\\"The Greedy Hand\\\" was better.\"],[\"This book is certainly informative regarding the Tibetian people, customs and mysteries surrounding their way of life and beliefs. I just wished it was more entertaining to read. I have read so many good travelogues and memoirs that I really wanted to enjoy this book. But I found the author's writing style less engaging than I hoped. The descriptions of the land high in the Himalayas and the people he encountered while at the roof of the world kept me reading, but overall the message was a bit lost on me from what I would have expected. I imagine that this would be an especially interesting read for someone studying or planning to visit Tibet, Nepal or even Bhutan. But as a travelogue, there are better options out there.\"],[\"A Hopi eagle poacher, the murder of a Navajo Tribal Policeman, a missing vector control agent sudying bubonic plague cases among the prairie dog burrows... Follow retired NTP Lieutenant Joe Leaphorn and acting Lieutenant Jim Chee on their search for the truth. This story is full of angles, troubles between local law enforcement on the reservation and the FBI, along with the return back to the reservation of Chee's half Navajo ex-fiance turned public defender that makes this novel a spellbinding story. Hillerman weaves the theme of plague and the study of antibotic resistant pathogens expertly. In the backdrop of the Navajo nations, he weaves so many elements together, but keeps you guessing until the end whodonit.\"],[\"This book has lots of tid bits of relationships between the kings and their mistresses.  The information seems to be well recorded but the composition of the book is more than I could take.  There were times that I was clueless as to whom she was speaking of because the wording jumps around from one person to another and is not clear.  That made it hard for me to follow.  There are endless notes and reference information that can get annoying after some time.  All in all the information that is presented is interesting.  It is just the way it is presented that I had trouble with.  Keep writing, I believe you may have better luck next time.\"],[\"Like some other reviewers here, I had very high hopes for this book, most of which were, in fact, fulfillled. It IS, however, a very American perspective on the game which is likely to be pretty unfulfilling for readers coming from cultures with longer histories with soccer. Conversely, it was quite satisfying for me as an American because it does manage to capture the sense of frustration Americans have felt with the lack of traction the game has gotten in this country, and the sense of hope that it is finally reaching critical mass.If you are an American reader, and you care anything about where the game has been and where it's going, the book is worth reading!\"],[\"I've always been a big believer that your life is what you create with your thoughts. Changing your thoughts consistently over time will of course change your life. It sounds simple, and it is, if you continue to be aware of your thoughts and dismiss or let go of negative thinking or fears. The techniques outlined in this book are easily performed and very straightforward -- and give steps to re-train negative thinking into postive outcomes.  This is a wonderful resource on ways to change your life for the better. Elaine Williams\"],[\"I got this book from the library thinking it would actually be about the Pleistocene.  It isn't.  It is more about the author droning on about how her view is so much superior to that of mere scientists.I suspect that there may be a little regurgitated information about human evolution in there somewhere, but as an ecologist, I just don't think that comes anywhere close to good enough.The invention of the Pleistocene and how we look at the time period differently over time could have been an interesting way to weave information together, but instead hubris just takes over and all the actual information gets lost within long diatribes.\"],[\"All hail Holy Mother Bee may she lay forevermore. And all hail The New York Times for not only still publishing book reviews but especially for reviewing this book. The strength of that review on May 23 intrigued me and when I read this book I was not disappointed. Sometimes authors cannot resist piling on their erudition to the detriment of story and character (see A BURNABLE BOOK). THE BEES just buzzes along (sorry), replete with information but it is worn lightly. I read it in two days. The only reason I did not read it in one was that I had to sleep. I look forward to her next book.\"],[\"This is THE bible for awk users. If you refuse to use perl, which incorporated most of awk, or have to maintain old awk scripts then this is the text.  I like the O'Reilly text for learning the basics, but after that you need this guide.  For some tasks awk is the premier solution, for others, use awk as part of the solution along with perl and a shell script. Still a cool language. And this book is very helpful for both beginning intermediate programmers of awk and advanced users.\"],[\"I was excited by the prospect of two famous people from opposing political parties setting out on a road trip to find out what makes this country so divided. However, all Meghan and Michael did was travel the country getting drunk and high. They each seem to be more absorbed in themselves and bickering with one another than caring about what anyone they met along the way had to contribute. As a young female republican who supports gay marriage and relates to Meghan McCain on many levels, I am once again disappointed by her lack of grace and misuse of her potential influence.\"],[\"This book takes a good look at surviving family members and provides some interesting points about grief and how people relate to one another and to the world during and post loss.  It was hard to sit down and read through the entire book, it does not capture you in that fashion.  It's more like wanting to know the characters end up on the other side of their experience and are \\\"for the better.\\\"  I wouldn't reccomend this book to anyone looking for a surface level easy read.  It's more about interpersonal dynamics than character development.\"],[\"It's not so much that the storyline was preposterous (it was), as it was that the author failed to get me invested in that world. There just wasn't enough structure to make it believable. About 100 page into the book I also realized that I didn't like any of the characters, and never came to care about what happened to them. If you're expecting for all the little odd bits to tie together later in the book, don't waste your time, the don't. It's all brushed aside as weird coincidence. The flaws in the book go right to the bones. Based on her other books, this one was a disappointment, but I will continue to read this author's future work.\"],[\"I did not enjoy reading \\\"Fall on Your Knees\\\". It was a bit confusing, one of those books that you have to read between the lines so much just to understand what is happening. If not, you can get totally lost. To me reading is supposed to be fun, and not work just to understand it. I think authors should just flat out tell you what is going on, and this book didn't do that. I wouldn't recommend this book, especially if you want a leisurely read, don't choose this.\"],[\"The Face Thief is a fun story about the public fronts we put up, told from the point of view of people who are good at seeing through them, but ironically blind to many of their own faults.  The science of face reading was well-researched, and got a little plodding at times, but by the end it was easy to imagine myself in the shoes of an expert in the field.  Suspense was created not so much by wondering what events would occur, but by how the characters' trust or distrust would affect their perception of events, which made it a very character-driven story that was a pleasure to read.\"],[\"This book is...well...There is no gauge, no yardage requirements, and no finished measurements. I was hoping to make doll clothes for my daughter's dolls she already has.Also, the colors in the photos differ from page to page of the same toy. The pattern says \\\"pink\\\", but the pictures say 3 different colors as each photo looks 'off' from the previouse one.Some of the toys are cute, but the author leaves so much unanswered about them that I'll just find another book, thank you.\"]],\"hovertemplate\":\"emb_X=%{x}<br>emb_Y=%{y}<br>conf=%{marker.size}<br>X=%{customdata[0]}<br>Y=%{marker.color}<extra></extra>\",\"legendgroup\":\"\",\"marker\":{\"color\":[1,0,1,0,1,0,1,1,1,0,0,1,1,0,1,1,0,0,0,1,0,1,1,1,0,0,0,1,1,1,0,1,0,1,0,0,0,1,0,1,1,0,1,1,0,0,0,0,1,0],\"coloraxis\":\"coloraxis\",\"size\":[0.9498269896193771,0.9047619047619041,0.9498269896193771,0.6449459595676761,0.9047619047619041,0.9047619047619041,0.9498269896193771,0.9498269896193771,0.8444444444444441,0.833333333333333,0.8888888888888881,0.9498269896193771,0.533333333333333,0.9047619047619041,0.833333333333333,0.833333333333333,0.8903454961331391,0.5,0.8444444444444441,0.9498269896193771,0.636363636363636,0.7272727272727271,0.533333333333333,0.9498269896193771,0.9047619047619041,0.7272727272727271,0.833333333333333,0.5,0.9498269896193771,0.9498269896193771,0.833333333333333,0.9498269896193771,0.9047619047619041,0.6666666666666661,0.8444444444444441,0.833333333333333,0.833333333333333,0.9498269896193771,0.9047619047619041,0.7272727272727271,0.9498269896193771,0.833333333333333,0.8444444444444441,0.9498269896193771,0.6020240397899971,0.9047619047619041,0.833333333333333,0.8888888888888881,0.9498269896193771,0.940279922913074],\"sizemode\":\"area\",\"sizeref\":0.0023745674740484426,\"symbol\":\"circle\"},\"mode\":\"markers\",\"name\":\"\",\"orientation\":\"v\",\"showlegend\":false,\"x\":[7.795756816864014,4.705898284912109,7.276406764984131,6.078758239746094,6.284437656402588,4.128418922424316,4.2681097984313965,5.373294353485107,4.511765480041504,3.1248884201049805,4.112035274505615,3.575772523880005,2.1300411224365234,3.48142409324646,6.520785808563232,6.77282190322876,3.46652889251709,4.495588779449463,3.3827672004699707,7.231288909912109,4.129421710968018,7.137383937835693,6.684309482574463,4.1916117668151855,3.319516181945801,5.575718402862549,7.2542405128479,5.117863178253174,8.356341361999512,8.264854431152344,2.342442512512207,3.372769355773926,3.684258460998535,4.587568759918213,3.564866065979004,4.4534759521484375,6.666459083557129,4.568702697753906,5.013556003570557,7.026387691497803,7.974564075469971,3.79624342918396,7.295264720916748,7.716707229614258,3.3310673236846924,6.034598350524902,2.412792444229126,2.3009557723999023,7.793854713439941,6.333146572113037],\"xaxis\":\"x\",\"y\":[-6.108062744140625,-6.104208469390869,-5.515429973602295,-6.414029598236084,-5.826723098754883,-5.18377161026001,-4.706442832946777,-5.853135108947754,-5.692354202270508,-5.799219131469727,-5.87980842590332,-4.3945207595825195,-5.676161289215088,-5.867221355438232,-6.664103984832764,-6.071296691894531,-4.771021366119385,-5.900432109832764,-5.232996463775635,-6.183931827545166,-5.984842777252197,-6.129244327545166,-6.251176357269287,-5.376642227172852,-5.718543529510498,-6.120449542999268,-6.350505828857422,-5.803838729858398,-6.720195293426514,-6.690797328948975,-5.601110458374023,-5.205559253692627,-5.7233171463012695,-5.358510971069336,-4.931046009063721,-5.570474147796631,-6.423816204071045,-4.453849792480469,-5.986579418182373,-6.507761478424072,-6.6925435066223145,-5.577788352966309,-6.599951267242432,-6.705397129058838,-5.824018955230713,-6.051654815673828,-5.574915885925293,-5.711037635803223,-6.263128757476807,-6.21223258972168],\"yaxis\":\"y\",\"type\":\"scatter\"}],                        {\"template\":{\"data\":{\"bar\":[{\"error_x\":{\"color\":\"#2a3f5f\"},\"error_y\":{\"color\":\"#2a3f5f\"},\"marker\":{\"line\":{\"color\":\"#E5ECF6\",\"width\":0.5},\"pattern\":{\"fillmode\":\"overlay\",\"size\":10,\"solidity\":0.2}},\"type\":\"bar\"}],\"barpolar\":[{\"marker\":{\"line\":{\"color\":\"#E5ECF6\",\"width\":0.5},\"pattern\":{\"fillmode\":\"overlay\",\"size\":10,\"solidity\":0.2}},\"type\":\"barpolar\"}],\"carpet\":[{\"aaxis\":{\"endlinecolor\":\"#2a3f5f\",\"gridcolor\":\"white\",\"linecolor\":\"white\",\"minorgridcolor\":\"white\",\"startlinecolor\":\"#2a3f5f\"},\"baxis\":{\"endlinecolor\":\"#2a3f5f\",\"gridcolor\":\"white\",\"linecolor\":\"white\",\"minorgridcolor\":\"white\",\"startlinecolor\":\"#2a3f5f\"},\"type\":\"carpet\"}],\"choropleth\":[{\"colorbar\":{\"outlinewidth\":0,\"ticks\":\"\"},\"type\":\"choropleth\"}],\"contour\":[{\"colorbar\":{\"outlinewidth\":0,\"ticks\":\"\"},\"colorscale\":[[0.0,\"#0d0887\"],[0.1111111111111111,\"#46039f\"],[0.2222222222222222,\"#7201a8\"],[0.3333333333333333,\"#9c179e\"],[0.4444444444444444,\"#bd3786\"],[0.5555555555555556,\"#d8576b\"],[0.6666666666666666,\"#ed7953\"],[0.7777777777777778,\"#fb9f3a\"],[0.8888888888888888,\"#fdca26\"],[1.0,\"#f0f921\"]],\"type\":\"contour\"}],\"contourcarpet\":[{\"colorbar\":{\"outlinewidth\":0,\"ticks\":\"\"},\"type\":\"contourcarpet\"}],\"heatmap\":[{\"colorbar\":{\"outlinewidth\":0,\"ticks\":\"\"},\"colorscale\":[[0.0,\"#0d0887\"],[0.1111111111111111,\"#46039f\"],[0.2222222222222222,\"#7201a8\"],[0.3333333333333333,\"#9c179e\"],[0.4444444444444444,\"#bd3786\"],[0.5555555555555556,\"#d8576b\"],[0.6666666666666666,\"#ed7953\"],[0.7777777777777778,\"#fb9f3a\"],[0.8888888888888888,\"#fdca26\"],[1.0,\"#f0f921\"]],\"type\":\"heatmap\"}],\"heatmapgl\":[{\"colorbar\":{\"outlinewidth\":0,\"ticks\":\"\"},\"colorscale\":[[0.0,\"#0d0887\"],[0.1111111111111111,\"#46039f\"],[0.2222222222222222,\"#7201a8\"],[0.3333333333333333,\"#9c179e\"],[0.4444444444444444,\"#bd3786\"],[0.5555555555555556,\"#d8576b\"],[0.6666666666666666,\"#ed7953\"],[0.7777777777777778,\"#fb9f3a\"],[0.8888888888888888,\"#fdca26\"],[1.0,\"#f0f921\"]],\"type\":\"heatmapgl\"}],\"histogram\":[{\"marker\":{\"pattern\":{\"fillmode\":\"overlay\",\"size\":10,\"solidity\":0.2}},\"type\":\"histogram\"}],\"histogram2d\":[{\"colorbar\":{\"outlinewidth\":0,\"ticks\":\"\"},\"colorscale\":[[0.0,\"#0d0887\"],[0.1111111111111111,\"#46039f\"],[0.2222222222222222,\"#7201a8\"],[0.3333333333333333,\"#9c179e\"],[0.4444444444444444,\"#bd3786\"],[0.5555555555555556,\"#d8576b\"],[0.6666666666666666,\"#ed7953\"],[0.7777777777777778,\"#fb9f3a\"],[0.8888888888888888,\"#fdca26\"],[1.0,\"#f0f921\"]],\"type\":\"histogram2d\"}],\"histogram2dcontour\":[{\"colorbar\":{\"outlinewidth\":0,\"ticks\":\"\"},\"colorscale\":[[0.0,\"#0d0887\"],[0.1111111111111111,\"#46039f\"],[0.2222222222222222,\"#7201a8\"],[0.3333333333333333,\"#9c179e\"],[0.4444444444444444,\"#bd3786\"],[0.5555555555555556,\"#d8576b\"],[0.6666666666666666,\"#ed7953\"],[0.7777777777777778,\"#fb9f3a\"],[0.8888888888888888,\"#fdca26\"],[1.0,\"#f0f921\"]],\"type\":\"histogram2dcontour\"}],\"mesh3d\":[{\"colorbar\":{\"outlinewidth\":0,\"ticks\":\"\"},\"type\":\"mesh3d\"}],\"parcoords\":[{\"line\":{\"colorbar\":{\"outlinewidth\":0,\"ticks\":\"\"}},\"type\":\"parcoords\"}],\"pie\":[{\"automargin\":true,\"type\":\"pie\"}],\"scatter\":[{\"marker\":{\"colorbar\":{\"outlinewidth\":0,\"ticks\":\"\"}},\"type\":\"scatter\"}],\"scatter3d\":[{\"line\":{\"colorbar\":{\"outlinewidth\":0,\"ticks\":\"\"}},\"marker\":{\"colorbar\":{\"outlinewidth\":0,\"ticks\":\"\"}},\"type\":\"scatter3d\"}],\"scattercarpet\":[{\"marker\":{\"colorbar\":{\"outlinewidth\":0,\"ticks\":\"\"}},\"type\":\"scattercarpet\"}],\"scattergeo\":[{\"marker\":{\"colorbar\":{\"outlinewidth\":0,\"ticks\":\"\"}},\"type\":\"scattergeo\"}],\"scattergl\":[{\"marker\":{\"colorbar\":{\"outlinewidth\":0,\"ticks\":\"\"}},\"type\":\"scattergl\"}],\"scattermapbox\":[{\"marker\":{\"colorbar\":{\"outlinewidth\":0,\"ticks\":\"\"}},\"type\":\"scattermapbox\"}],\"scatterpolar\":[{\"marker\":{\"colorbar\":{\"outlinewidth\":0,\"ticks\":\"\"}},\"type\":\"scatterpolar\"}],\"scatterpolargl\":[{\"marker\":{\"colorbar\":{\"outlinewidth\":0,\"ticks\":\"\"}},\"type\":\"scatterpolargl\"}],\"scatterternary\":[{\"marker\":{\"colorbar\":{\"outlinewidth\":0,\"ticks\":\"\"}},\"type\":\"scatterternary\"}],\"surface\":[{\"colorbar\":{\"outlinewidth\":0,\"ticks\":\"\"},\"colorscale\":[[0.0,\"#0d0887\"],[0.1111111111111111,\"#46039f\"],[0.2222222222222222,\"#7201a8\"],[0.3333333333333333,\"#9c179e\"],[0.4444444444444444,\"#bd3786\"],[0.5555555555555556,\"#d8576b\"],[0.6666666666666666,\"#ed7953\"],[0.7777777777777778,\"#fb9f3a\"],[0.8888888888888888,\"#fdca26\"],[1.0,\"#f0f921\"]],\"type\":\"surface\"}],\"table\":[{\"cells\":{\"fill\":{\"color\":\"#EBF0F8\"},\"line\":{\"color\":\"white\"}},\"header\":{\"fill\":{\"color\":\"#C8D4E3\"},\"line\":{\"color\":\"white\"}},\"type\":\"table\"}]},\"layout\":{\"annotationdefaults\":{\"arrowcolor\":\"#2a3f5f\",\"arrowhead\":0,\"arrowwidth\":1},\"autotypenumbers\":\"strict\",\"coloraxis\":{\"colorbar\":{\"outlinewidth\":0,\"ticks\":\"\"}},\"colorscale\":{\"diverging\":[[0,\"#8e0152\"],[0.1,\"#c51b7d\"],[0.2,\"#de77ae\"],[0.3,\"#f1b6da\"],[0.4,\"#fde0ef\"],[0.5,\"#f7f7f7\"],[0.6,\"#e6f5d0\"],[0.7,\"#b8e186\"],[0.8,\"#7fbc41\"],[0.9,\"#4d9221\"],[1,\"#276419\"]],\"sequential\":[[0.0,\"#0d0887\"],[0.1111111111111111,\"#46039f\"],[0.2222222222222222,\"#7201a8\"],[0.3333333333333333,\"#9c179e\"],[0.4444444444444444,\"#bd3786\"],[0.5555555555555556,\"#d8576b\"],[0.6666666666666666,\"#ed7953\"],[0.7777777777777778,\"#fb9f3a\"],[0.8888888888888888,\"#fdca26\"],[1.0,\"#f0f921\"]],\"sequentialminus\":[[0.0,\"#0d0887\"],[0.1111111111111111,\"#46039f\"],[0.2222222222222222,\"#7201a8\"],[0.3333333333333333,\"#9c179e\"],[0.4444444444444444,\"#bd3786\"],[0.5555555555555556,\"#d8576b\"],[0.6666666666666666,\"#ed7953\"],[0.7777777777777778,\"#fb9f3a\"],[0.8888888888888888,\"#fdca26\"],[1.0,\"#f0f921\"]]},\"colorway\":[\"#636efa\",\"#EF553B\",\"#00cc96\",\"#ab63fa\",\"#FFA15A\",\"#19d3f3\",\"#FF6692\",\"#B6E880\",\"#FF97FF\",\"#FECB52\"],\"font\":{\"color\":\"#2a3f5f\"},\"geo\":{\"bgcolor\":\"white\",\"lakecolor\":\"white\",\"landcolor\":\"#E5ECF6\",\"showlakes\":true,\"showland\":true,\"subunitcolor\":\"white\"},\"hoverlabel\":{\"align\":\"left\"},\"hovermode\":\"closest\",\"mapbox\":{\"style\":\"light\"},\"paper_bgcolor\":\"white\",\"plot_bgcolor\":\"#E5ECF6\",\"polar\":{\"angularaxis\":{\"gridcolor\":\"white\",\"linecolor\":\"white\",\"ticks\":\"\"},\"bgcolor\":\"#E5ECF6\",\"radialaxis\":{\"gridcolor\":\"white\",\"linecolor\":\"white\",\"ticks\":\"\"}},\"scene\":{\"xaxis\":{\"backgroundcolor\":\"#E5ECF6\",\"gridcolor\":\"white\",\"gridwidth\":2,\"linecolor\":\"white\",\"showbackground\":true,\"ticks\":\"\",\"zerolinecolor\":\"white\"},\"yaxis\":{\"backgroundcolor\":\"#E5ECF6\",\"gridcolor\":\"white\",\"gridwidth\":2,\"linecolor\":\"white\",\"showbackground\":true,\"ticks\":\"\",\"zerolinecolor\":\"white\"},\"zaxis\":{\"backgroundcolor\":\"#E5ECF6\",\"gridcolor\":\"white\",\"gridwidth\":2,\"linecolor\":\"white\",\"showbackground\":true,\"ticks\":\"\",\"zerolinecolor\":\"white\"}},\"shapedefaults\":{\"line\":{\"color\":\"#2a3f5f\"}},\"ternary\":{\"aaxis\":{\"gridcolor\":\"white\",\"linecolor\":\"white\",\"ticks\":\"\"},\"baxis\":{\"gridcolor\":\"white\",\"linecolor\":\"white\",\"ticks\":\"\"},\"bgcolor\":\"#E5ECF6\",\"caxis\":{\"gridcolor\":\"white\",\"linecolor\":\"white\",\"ticks\":\"\"}},\"title\":{\"x\":0.05},\"xaxis\":{\"automargin\":true,\"gridcolor\":\"white\",\"linecolor\":\"white\",\"ticks\":\"\",\"title\":{\"standoff\":15},\"zerolinecolor\":\"white\",\"zerolinewidth\":2},\"yaxis\":{\"automargin\":true,\"gridcolor\":\"white\",\"linecolor\":\"white\",\"ticks\":\"\",\"title\":{\"standoff\":15},\"zerolinecolor\":\"white\",\"zerolinewidth\":2}}},\"xaxis\":{\"anchor\":\"y\",\"domain\":[0.0,1.0],\"title\":{\"text\":\"emb_X\"}},\"yaxis\":{\"anchor\":\"x\",\"domain\":[0.0,1.0],\"title\":{\"text\":\"emb_Y\"}},\"coloraxis\":{\"colorbar\":{\"title\":{\"text\":\"Y\"}},\"colorscale\":[[0.0,\"#0d0887\"],[0.1111111111111111,\"#46039f\"],[0.2222222222222222,\"#7201a8\"],[0.3333333333333333,\"#9c179e\"],[0.4444444444444444,\"#bd3786\"],[0.5555555555555556,\"#d8576b\"],[0.6666666666666666,\"#ed7953\"],[0.7777777777777778,\"#fb9f3a\"],[0.8888888888888888,\"#fdca26\"],[1.0,\"#f0f921\"]]},\"legend\":{\"tracegroupgap\":0,\"itemsizing\":\"constant\"},\"margin\":{\"t\":60},\"height\":800,\"width\":800,\"hoverlabel\":{\"font\":{\"size\":7,\"family\":\"Rockwell\"}}},                        {\"responsive\": true}                    ).then(function(){\n",
       "                            \n",
       "var gd = document.getElementById('7f13d169-243a-40af-9b20-66cbcc9ff505');\n",
       "var x = new MutationObserver(function (mutations, observer) {{\n",
       "        var display = window.getComputedStyle(gd).display;\n",
       "        if (!display || display === 'none') {{\n",
       "            console.log([gd, 'removed!']);\n",
       "            Plotly.purge(gd);\n",
       "            observer.disconnect();\n",
       "        }}\n",
       "}});\n",
       "\n",
       "// Listen for the removal of the full notebook cells\n",
       "var notebookContainer = gd.closest('#notebook-container');\n",
       "if (notebookContainer) {{\n",
       "    x.observe(notebookContainer, {childList: true});\n",
       "}}\n",
       "\n",
       "// Listen for the clearing of the current output cell\n",
       "var outputEl = gd.closest('.output');\n",
       "if (outputEl) {{\n",
       "    x.observe(outputEl, {childList: true});\n",
       "}}\n",
       "\n",
       "                        })                };                });            </script>        </div>"
      ]
     },
     "metadata": {},
     "output_type": "display_data"
    }
   ],
   "source": [
    "# import matplotlib.pyplot as plt\n",
    "# plt.scatter(X_embedded[:, 0], X_embedded[:, 1], c=df_res['Y'].tolist())\n",
    "import plotly.express as px\n",
    "fig = px.scatter(df_res, x=\"emb_X\", y=\"emb_Y\", color=\"Y\", width=800, height=800,\n",
    "                 size='conf', hover_data=['X'])\n",
    "\n",
    "fig.update_layout(\n",
    "    hoverlabel=dict(\n",
    "        font_size=7,\n",
    "        font_family=\"Rockwell\",\n",
    "    )\n",
    ")\n",
    "\n",
    "fig.show()"
   ]
  },
  {
   "cell_type": "code",
   "execution_count": 53,
   "metadata": {},
   "outputs": [
    {
     "data": {
      "text/plain": [
       "<matplotlib.collections.PathCollection at 0x7f2f72b24f70>"
      ]
     },
     "execution_count": 53,
     "metadata": {},
     "output_type": "execute_result"
    },
    {
     "data": {
      "image/png": "[encoded data removed]",
      "text/plain": [
       "<Figure size 432x288 with 1 Axes>"
      ]
     },
     "metadata": {
      "needs_background": "light"
     },
     "output_type": "display_data"
    }
   ],
   "source": [
    "import matplotlib.pyplot as plt\n",
    "plt.scatter(X_MDS_embedded[:, 0], X_MDS_embedded[:, 1], c=df_res['Y'].tolist())"
   ]
  },
  {
   "cell_type": "code",
   "execution_count": null,
   "metadata": {},
   "outputs": [],
   "source": []
  }
 ],
 "metadata": {
  "interpreter": {
   "hash": "1081f399d3ea870769f0aa26dc05ab0ca3edbca6090c2fb90334027e4f8e8bd7"
  },
  "kernelspec": {
   "display_name": "Python 3.8.12 ('drop-allennlp')",
   "language": "python",
   "name": "python3"
  },
  "language_info": {
   "codemirror_mode": {
    "name": "ipython",
    "version": 3
   },
   "file_extension": ".py",
   "mimetype": "text/x-python",
   "name": "python",
   "nbconvert_exporter": "python",
   "pygments_lexer": "ipython3",
   "version": "3.8.12"
  },
  "orig_nbformat": 4
 },
 "nbformat": 4,
 "nbformat_minor": 2
}
